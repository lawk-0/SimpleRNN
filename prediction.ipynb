{
 "cells": [
  {
   "cell_type": "code",
   "execution_count": 1,
   "metadata": {},
   "outputs": [],
   "source": [
    "# Step 1: Import Libraries and Load the Model\n",
    "import numpy as np\n",
    "import tensorflow as tf\n",
    "from tensorflow.keras.datasets import imdb\n",
    "from tensorflow.keras.preprocessing import sequence\n",
    "from tensorflow.keras.models import load_model"
   ]
  },
  {
   "cell_type": "code",
   "execution_count": 2,
   "metadata": {},
   "outputs": [],
   "source": [
    "\n",
    "# Load the IMDB dataset word index\n",
    "word_index = imdb.get_word_index()\n",
    "reverse_word_index = {value: key for key, value in word_index.items()}"
   ]
  },
  {
   "cell_type": "code",
   "execution_count": 3,
   "metadata": {},
   "outputs": [
    {
     "name": "stderr",
     "output_type": "stream",
     "text": [
      "WARNING:absl:Compiled the loaded model, but the compiled metrics have yet to be built. `model.compile_metrics` will be empty until you train or evaluate the model.\n"
     ]
    },
    {
     "data": {
      "text/html": [
       "<pre style=\"white-space:pre;overflow-x:auto;line-height:normal;font-family:Menlo,'DejaVu Sans Mono',consolas,'Courier New',monospace\"><span style=\"font-weight: bold\">Model: \"sequential_1\"</span>\n",
       "</pre>\n"
      ],
      "text/plain": [
       "\u001b[1mModel: \"sequential_1\"\u001b[0m\n"
      ]
     },
     "metadata": {},
     "output_type": "display_data"
    },
    {
     "data": {
      "text/html": [
       "<pre style=\"white-space:pre;overflow-x:auto;line-height:normal;font-family:Menlo,'DejaVu Sans Mono',consolas,'Courier New',monospace\">┏━━━━━━━━━━━━━━━━━━━━━━━━━━━━━━━━━┳━━━━━━━━━━━━━━━━━━━━━━━━┳━━━━━━━━━━━━━━━┓\n",
       "┃<span style=\"font-weight: bold\"> Layer (type)                    </span>┃<span style=\"font-weight: bold\"> Output Shape           </span>┃<span style=\"font-weight: bold\">       Param # </span>┃\n",
       "┡━━━━━━━━━━━━━━━━━━━━━━━━━━━━━━━━━╇━━━━━━━━━━━━━━━━━━━━━━━━╇━━━━━━━━━━━━━━━┩\n",
       "│ embedding_1 (<span style=\"color: #0087ff; text-decoration-color: #0087ff\">Embedding</span>)         │ (<span style=\"color: #00af00; text-decoration-color: #00af00\">32</span>, <span style=\"color: #00af00; text-decoration-color: #00af00\">500</span>, <span style=\"color: #00af00; text-decoration-color: #00af00\">128</span>)         │     <span style=\"color: #00af00; text-decoration-color: #00af00\">1,280,000</span> │\n",
       "├─────────────────────────────────┼────────────────────────┼───────────────┤\n",
       "│ simple_rnn_1 (<span style=\"color: #0087ff; text-decoration-color: #0087ff\">SimpleRNN</span>)        │ (<span style=\"color: #00af00; text-decoration-color: #00af00\">32</span>, <span style=\"color: #00af00; text-decoration-color: #00af00\">128</span>)              │        <span style=\"color: #00af00; text-decoration-color: #00af00\">32,896</span> │\n",
       "├─────────────────────────────────┼────────────────────────┼───────────────┤\n",
       "│ dense_1 (<span style=\"color: #0087ff; text-decoration-color: #0087ff\">Dense</span>)                 │ (<span style=\"color: #00af00; text-decoration-color: #00af00\">32</span>, <span style=\"color: #00af00; text-decoration-color: #00af00\">1</span>)                │           <span style=\"color: #00af00; text-decoration-color: #00af00\">129</span> │\n",
       "└─────────────────────────────────┴────────────────────────┴───────────────┘\n",
       "</pre>\n"
      ],
      "text/plain": [
       "┏━━━━━━━━━━━━━━━━━━━━━━━━━━━━━━━━━┳━━━━━━━━━━━━━━━━━━━━━━━━┳━━━━━━━━━━━━━━━┓\n",
       "┃\u001b[1m \u001b[0m\u001b[1mLayer (type)                   \u001b[0m\u001b[1m \u001b[0m┃\u001b[1m \u001b[0m\u001b[1mOutput Shape          \u001b[0m\u001b[1m \u001b[0m┃\u001b[1m \u001b[0m\u001b[1m      Param #\u001b[0m\u001b[1m \u001b[0m┃\n",
       "┡━━━━━━━━━━━━━━━━━━━━━━━━━━━━━━━━━╇━━━━━━━━━━━━━━━━━━━━━━━━╇━━━━━━━━━━━━━━━┩\n",
       "│ embedding_1 (\u001b[38;5;33mEmbedding\u001b[0m)         │ (\u001b[38;5;34m32\u001b[0m, \u001b[38;5;34m500\u001b[0m, \u001b[38;5;34m128\u001b[0m)         │     \u001b[38;5;34m1,280,000\u001b[0m │\n",
       "├─────────────────────────────────┼────────────────────────┼───────────────┤\n",
       "│ simple_rnn_1 (\u001b[38;5;33mSimpleRNN\u001b[0m)        │ (\u001b[38;5;34m32\u001b[0m, \u001b[38;5;34m128\u001b[0m)              │        \u001b[38;5;34m32,896\u001b[0m │\n",
       "├─────────────────────────────────┼────────────────────────┼───────────────┤\n",
       "│ dense_1 (\u001b[38;5;33mDense\u001b[0m)                 │ (\u001b[38;5;34m32\u001b[0m, \u001b[38;5;34m1\u001b[0m)                │           \u001b[38;5;34m129\u001b[0m │\n",
       "└─────────────────────────────────┴────────────────────────┴───────────────┘\n"
      ]
     },
     "metadata": {},
     "output_type": "display_data"
    },
    {
     "data": {
      "text/html": [
       "<pre style=\"white-space:pre;overflow-x:auto;line-height:normal;font-family:Menlo,'DejaVu Sans Mono',consolas,'Courier New',monospace\"><span style=\"font-weight: bold\"> Total params: </span><span style=\"color: #00af00; text-decoration-color: #00af00\">1,313,027</span> (5.01 MB)\n",
       "</pre>\n"
      ],
      "text/plain": [
       "\u001b[1m Total params: \u001b[0m\u001b[38;5;34m1,313,027\u001b[0m (5.01 MB)\n"
      ]
     },
     "metadata": {},
     "output_type": "display_data"
    },
    {
     "data": {
      "text/html": [
       "<pre style=\"white-space:pre;overflow-x:auto;line-height:normal;font-family:Menlo,'DejaVu Sans Mono',consolas,'Courier New',monospace\"><span style=\"font-weight: bold\"> Trainable params: </span><span style=\"color: #00af00; text-decoration-color: #00af00\">1,313,025</span> (5.01 MB)\n",
       "</pre>\n"
      ],
      "text/plain": [
       "\u001b[1m Trainable params: \u001b[0m\u001b[38;5;34m1,313,025\u001b[0m (5.01 MB)\n"
      ]
     },
     "metadata": {},
     "output_type": "display_data"
    },
    {
     "data": {
      "text/html": [
       "<pre style=\"white-space:pre;overflow-x:auto;line-height:normal;font-family:Menlo,'DejaVu Sans Mono',consolas,'Courier New',monospace\"><span style=\"font-weight: bold\"> Non-trainable params: </span><span style=\"color: #00af00; text-decoration-color: #00af00\">0</span> (0.00 B)\n",
       "</pre>\n"
      ],
      "text/plain": [
       "\u001b[1m Non-trainable params: \u001b[0m\u001b[38;5;34m0\u001b[0m (0.00 B)\n"
      ]
     },
     "metadata": {},
     "output_type": "display_data"
    },
    {
     "data": {
      "text/html": [
       "<pre style=\"white-space:pre;overflow-x:auto;line-height:normal;font-family:Menlo,'DejaVu Sans Mono',consolas,'Courier New',monospace\"><span style=\"font-weight: bold\"> Optimizer params: </span><span style=\"color: #00af00; text-decoration-color: #00af00\">2</span> (12.00 B)\n",
       "</pre>\n"
      ],
      "text/plain": [
       "\u001b[1m Optimizer params: \u001b[0m\u001b[38;5;34m2\u001b[0m (12.00 B)\n"
      ]
     },
     "metadata": {},
     "output_type": "display_data"
    }
   ],
   "source": [
    "# Load the pre-trained model with ReLU activation\n",
    "model = load_model('simple_rnn_imdb.h5')\n",
    "model.summary()"
   ]
  },
  {
   "cell_type": "code",
   "execution_count": 4,
   "metadata": {},
   "outputs": [
    {
     "data": {
      "text/plain": [
       "[array([[ 0.01713628, -0.1617048 ,  0.04636921, ...,  0.35077196,\n",
       "          0.05015978,  0.21603614],\n",
       "        [-0.02116061, -0.02270703, -0.09446754, ..., -0.02753493,\n",
       "          0.03487884, -0.01455901],\n",
       "        [-0.0272144 , -0.01070596, -0.00050391, ...,  0.09456412,\n",
       "          0.01354902, -0.01142307],\n",
       "        ...,\n",
       "        [-0.0339075 ,  0.06457902,  0.03425109, ...,  0.00425512,\n",
       "          0.01263656,  0.00324054],\n",
       "        [-0.00424148, -0.00066805,  0.00234852, ...,  0.04886862,\n",
       "         -0.04327996, -0.00281279],\n",
       "        [-0.00478416,  0.05743096, -0.02060502, ...,  0.01572397,\n",
       "          0.02084915, -0.01067283]], dtype=float32),\n",
       " array([[ 0.1221335 , -0.08839316,  0.08251425, ...,  0.09638827,\n",
       "         -0.13185045,  0.19319682],\n",
       "        [-0.02362251,  0.10656293, -0.05963781, ...,  0.00736548,\n",
       "          0.10716822,  0.05422553],\n",
       "        [-0.12879951, -0.08489911, -0.05676603, ...,  0.16645977,\n",
       "         -0.09257992,  0.02829621],\n",
       "        ...,\n",
       "        [ 0.00698717, -0.06014043, -0.11124102, ...,  0.04383856,\n",
       "          0.07277921, -0.20235562],\n",
       "        [-0.10177249,  0.00463147, -0.03980063, ..., -0.08379857,\n",
       "          0.08330438,  0.0022305 ],\n",
       "        [ 0.08416352, -0.01000405,  0.12338839, ..., -0.17509441,\n",
       "          0.09400786,  0.07062497]], dtype=float32),\n",
       " array([[-1.35971203e-01, -1.96309343e-01,  1.53066739e-01, ...,\n",
       "         -5.44452891e-02, -1.85734611e-02, -1.58388317e-02],\n",
       "        [ 1.78772770e-02, -1.37675986e-01,  3.90080106e-03, ...,\n",
       "          7.00821579e-02, -6.71101138e-02, -1.12901874e-01],\n",
       "        [-5.26636653e-02, -3.13535100e-03,  3.43036562e-01, ...,\n",
       "         -1.21801859e-02, -2.26192072e-01,  1.33931721e-02],\n",
       "        ...,\n",
       "        [ 1.69142112e-02,  1.25396222e-01, -1.60082147e-01, ...,\n",
       "          2.16267228e-01,  1.68997854e-01,  1.08512968e-01],\n",
       "        [-2.90825516e-01,  2.15948428e-04,  1.29654519e-02, ...,\n",
       "          2.59138108e-03, -9.97837037e-02,  4.32475917e-02],\n",
       "        [-2.07999796e-01, -2.55495543e-04,  7.68024996e-02, ...,\n",
       "          7.50021785e-02, -1.84317231e-02,  9.32575017e-02]], dtype=float32),\n",
       " array([ 1.93670709e-02,  2.58777682e-02,  2.19224431e-02,  1.61309689e-02,\n",
       "        -4.22498845e-02,  3.54377963e-02, -4.14641276e-02,  7.54497480e-04,\n",
       "        -2.46358253e-02, -2.71201623e-03, -4.24845964e-02, -4.96301800e-03,\n",
       "         2.18602661e-02, -1.60587393e-02, -3.76463979e-02, -4.13922854e-02,\n",
       "         4.15030029e-03, -4.21651006e-02,  2.71570347e-02, -3.63273919e-02,\n",
       "         6.64645899e-03, -1.13434214e-02, -5.55883627e-03,  9.36744735e-04,\n",
       "         4.55164304e-03, -5.35288639e-02,  3.18695866e-02, -1.96765605e-02,\n",
       "         2.75797788e-02, -2.36289594e-02,  3.21938470e-03,  4.16975981e-03,\n",
       "        -1.54920155e-02, -2.32977010e-02, -7.65458681e-03,  4.34253272e-03,\n",
       "        -2.41337381e-02, -2.33531203e-02,  1.27027314e-02, -3.44164446e-02,\n",
       "        -2.47484632e-02, -5.71897579e-03, -1.43167218e-02, -9.76520032e-03,\n",
       "         4.15383577e-02, -3.68639976e-02, -1.28100635e-02, -2.47385893e-02,\n",
       "        -9.82870720e-03,  9.41209309e-03,  6.31463062e-03, -2.72003096e-02,\n",
       "         4.36060643e-03,  9.38649919e-06,  2.35110763e-02, -3.99323218e-02,\n",
       "        -7.35024732e-05, -3.71968336e-02, -2.82497145e-02, -1.57680530e-02,\n",
       "         6.07163645e-03,  4.97279828e-03,  2.40376615e-03, -1.70735884e-02,\n",
       "        -3.80734578e-02, -1.58032756e-02, -1.96424890e-02,  1.26037924e-02,\n",
       "         2.23619919e-02, -4.04434726e-02,  2.05082912e-02, -4.35963348e-02,\n",
       "         5.56574529e-03, -3.00060399e-02, -2.67032683e-02, -1.20495167e-02,\n",
       "        -3.13237086e-02, -3.67578268e-02, -2.97781359e-02, -2.41255984e-02,\n",
       "         8.28431081e-03,  1.75131522e-02, -4.96270554e-03, -9.87506099e-03,\n",
       "        -1.62835307e-02, -3.08582429e-02, -1.11816637e-02,  4.14874032e-03,\n",
       "        -1.70921274e-02, -2.02174429e-02, -7.89171737e-03, -3.41982059e-02,\n",
       "        -1.59171801e-02, -1.40796090e-02, -1.60737783e-02, -1.79254375e-02,\n",
       "        -1.63222197e-02, -1.34164905e-02, -3.66792865e-02, -1.74138770e-02,\n",
       "        -1.10319154e-02, -8.75895098e-03,  1.10902078e-03,  6.74827583e-03,\n",
       "        -1.67851951e-02,  2.37284619e-02,  1.18238181e-02, -5.94482338e-03,\n",
       "        -1.69222765e-02, -2.73340121e-02,  4.33415994e-02, -2.60021188e-03,\n",
       "        -8.16705823e-03, -1.90190189e-02,  1.97347160e-02,  1.79903433e-02,\n",
       "         9.60209966e-03,  1.13220681e-02, -3.46395187e-02,  2.38290615e-02,\n",
       "        -2.86882594e-02,  1.53988954e-02,  4.18759696e-03, -2.07327362e-02,\n",
       "         1.68147925e-02,  3.83886532e-03,  2.54978007e-03, -1.42299477e-02],\n",
       "       dtype=float32),\n",
       " array([[-0.22569685],\n",
       "        [-0.20970194],\n",
       "        [ 0.05223161],\n",
       "        [-0.16552165],\n",
       "        [-0.12737235],\n",
       "        [ 0.14967422],\n",
       "        [-0.12120918],\n",
       "        [-0.24552292],\n",
       "        [-0.22055459],\n",
       "        [ 0.10803948],\n",
       "        [ 0.03664719],\n",
       "        [ 0.21217576],\n",
       "        [-0.21944179],\n",
       "        [ 0.01804247],\n",
       "        [ 0.21257187],\n",
       "        [-0.00838213],\n",
       "        [ 0.13079312],\n",
       "        [-0.15339926],\n",
       "        [-0.11731538],\n",
       "        [-0.23318551],\n",
       "        [-0.21644491],\n",
       "        [ 0.16135742],\n",
       "        [ 0.22941782],\n",
       "        [ 0.32578737],\n",
       "        [-0.06338666],\n",
       "        [-0.21754202],\n",
       "        [-0.08665015],\n",
       "        [-0.13333073],\n",
       "        [-0.28228754],\n",
       "        [ 0.23179436],\n",
       "        [ 0.10774179],\n",
       "        [ 0.1729711 ],\n",
       "        [ 0.18494551],\n",
       "        [ 0.22423215],\n",
       "        [ 0.16310391],\n",
       "        [-0.11372362],\n",
       "        [-0.11334817],\n",
       "        [-0.13638924],\n",
       "        [ 0.14383636],\n",
       "        [-0.1481945 ],\n",
       "        [-0.09700247],\n",
       "        [-0.04210225],\n",
       "        [ 0.08518412],\n",
       "        [ 0.05342335],\n",
       "        [ 0.17017196],\n",
       "        [-0.05920622],\n",
       "        [ 0.13317065],\n",
       "        [ 0.18029638],\n",
       "        [-0.10788938],\n",
       "        [ 0.17838019],\n",
       "        [-0.19763502],\n",
       "        [ 0.17682455],\n",
       "        [ 0.12446249],\n",
       "        [-0.09527157],\n",
       "        [ 0.11885586],\n",
       "        [ 0.20295405],\n",
       "        [-0.24532104],\n",
       "        [ 0.03447085],\n",
       "        [ 0.08322214],\n",
       "        [ 0.34718645],\n",
       "        [-0.03590222],\n",
       "        [ 0.04993667],\n",
       "        [-0.22218685],\n",
       "        [ 0.17975286],\n",
       "        [-0.09661082],\n",
       "        [ 0.21156701],\n",
       "        [-0.08682754],\n",
       "        [ 0.17515878],\n",
       "        [-0.21568821],\n",
       "        [-0.14296745],\n",
       "        [-0.02882059],\n",
       "        [-0.12191533],\n",
       "        [-0.21833692],\n",
       "        [-0.17087828],\n",
       "        [ 0.16929518],\n",
       "        [ 0.1197941 ],\n",
       "        [ 0.2094991 ],\n",
       "        [ 0.12029764],\n",
       "        [ 0.03837124],\n",
       "        [-0.03747703],\n",
       "        [ 0.1567236 ],\n",
       "        [ 0.08656059],\n",
       "        [ 0.26700053],\n",
       "        [-0.17246735],\n",
       "        [ 0.12173712],\n",
       "        [-0.23738801],\n",
       "        [ 0.24188694],\n",
       "        [-0.01906341],\n",
       "        [ 0.2104364 ],\n",
       "        [ 0.17959225],\n",
       "        [-0.12080847],\n",
       "        [-0.12188974],\n",
       "        [ 0.03512252],\n",
       "        [ 0.00610477],\n",
       "        [ 0.10692303],\n",
       "        [ 0.1495466 ],\n",
       "        [ 0.05471996],\n",
       "        [ 0.04060801],\n",
       "        [-0.12919706],\n",
       "        [-0.20210285],\n",
       "        [-0.12023154],\n",
       "        [-0.05911429],\n",
       "        [ 0.19550788],\n",
       "        [ 0.29822809],\n",
       "        [-0.03192523],\n",
       "        [-0.16481404],\n",
       "        [-0.02485892],\n",
       "        [ 0.02906538],\n",
       "        [-0.14927202],\n",
       "        [-0.02253124],\n",
       "        [-0.10646411],\n",
       "        [-0.22047113],\n",
       "        [-0.02476438],\n",
       "        [-0.0574059 ],\n",
       "        [-0.09736773],\n",
       "        [-0.06056681],\n",
       "        [-0.00717104],\n",
       "        [ 0.08083142],\n",
       "        [ 0.21129887],\n",
       "        [ 0.08627814],\n",
       "        [-0.13012457],\n",
       "        [ 0.22516759],\n",
       "        [-0.19701491],\n",
       "        [ 0.18715474],\n",
       "        [-0.11686219],\n",
       "        [ 0.08860125],\n",
       "        [-0.06110075],\n",
       "        [ 0.3087183 ]], dtype=float32),\n",
       " array([0.14263913], dtype=float32)]"
      ]
     },
     "execution_count": 4,
     "metadata": {},
     "output_type": "execute_result"
    }
   ],
   "source": [
    "model.get_weights()"
   ]
  },
  {
   "cell_type": "code",
   "execution_count": 5,
   "metadata": {},
   "outputs": [],
   "source": [
    "# Step 2: Helper Functions\n",
    "# Function to decode reviews\n",
    "def decode_review(encoded_review):\n",
    "    return ' '.join([reverse_word_index.get(i - 3, '?') for i in encoded_review])\n",
    "\n",
    "# Function to preprocess user input\n",
    "def preprocess_text(text):\n",
    "    words = text.lower().split()\n",
    "    encoded_review = [word_index.get(word, 2) + 3 for word in words]\n",
    "    padded_review = sequence.pad_sequences([encoded_review], maxlen=500)\n",
    "    return padded_review"
   ]
  },
  {
   "cell_type": "code",
   "execution_count": 6,
   "metadata": {},
   "outputs": [],
   "source": [
    "### Prediction  function\n",
    "\n",
    "def predict_sentiment(review):\n",
    "    preprocessed_input=preprocess_text(review)\n",
    "\n",
    "    prediction=model.predict(preprocessed_input)\n",
    "\n",
    "    sentiment = 'Positive' if prediction[0][0] > 0.5 else 'Negative'\n",
    "    \n",
    "    return sentiment, prediction[0][0]\n",
    "\n"
   ]
  },
  {
   "cell_type": "code",
   "execution_count": 7,
   "metadata": {},
   "outputs": [
    {
     "name": "stdout",
     "output_type": "stream",
     "text": [
      "\u001b[1m1/1\u001b[0m \u001b[32m━━━━━━━━━━━━━━━━━━━━\u001b[0m\u001b[37m\u001b[0m \u001b[1m0s\u001b[0m 89ms/step\n",
      "Review: This movie was fantastic! The acting was great and the plot was thrilling.\n",
      "Sentiment: Positive\n",
      "Prediction Score: 0.5519489645957947\n"
     ]
    }
   ],
   "source": [
    "# Step 4: User Input and Prediction\n",
    "# Example review for prediction\n",
    "example_review = \"This movie was fantastic! The acting was great and the plot was thrilling.\"\n",
    "\n",
    "sentiment,score=predict_sentiment(example_review)\n",
    "\n",
    "print(f'Review: {example_review}')\n",
    "print(f'Sentiment: {sentiment}')\n",
    "print(f'Prediction Score: {score}')"
   ]
  },
  {
   "cell_type": "code",
   "execution_count": null,
   "metadata": {},
   "outputs": [],
   "source": []
  },
  {
   "cell_type": "code",
   "execution_count": null,
   "metadata": {},
   "outputs": [],
   "source": []
  },
  {
   "cell_type": "code",
   "execution_count": null,
   "metadata": {},
   "outputs": [],
   "source": []
  },
  {
   "cell_type": "code",
   "execution_count": null,
   "metadata": {},
   "outputs": [],
   "source": []
  }
 ],
 "metadata": {
  "kernelspec": {
   "display_name": "Python 3",
   "language": "python",
   "name": "python3"
  },
  "language_info": {
   "codemirror_mode": {
    "name": "ipython",
    "version": 3
   },
   "file_extension": ".py",
   "mimetype": "text/x-python",
   "name": "python",
   "nbconvert_exporter": "python",
   "pygments_lexer": "ipython3",
   "version": "3.11.8"
  }
 },
 "nbformat": 4,
 "nbformat_minor": 2
}
